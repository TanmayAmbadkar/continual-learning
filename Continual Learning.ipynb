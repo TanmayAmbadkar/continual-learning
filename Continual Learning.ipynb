{
 "cells": [
  {
   "cell_type": "code",
   "execution_count": 46,
   "id": "51340607-9b33-4af7-ab6e-79d56619a609",
   "metadata": {},
   "outputs": [],
   "source": [
    "import torch\n",
    "import torch.nn as nn\n",
    "import torch.nn.functional as F\n",
    "import pytorch_lightning as pl\n",
    "from torch.utils.data import Dataset, DataLoader\n",
    "import torchmetrics\n",
    "import torchvision\n",
    "import torchvision.transforms as transforms\n",
    "import matplotlib.pyplot as plt\n",
    "\n",
    "from cnn import ResNet18, ResNet, BasicBlock\n",
    "import tqdm"
   ]
  },
  {
   "cell_type": "code",
   "execution_count": 2,
   "id": "84aa3d97-dc63-4187-be8e-b61810a4bc64",
   "metadata": {},
   "outputs": [
    {
     "name": "stdout",
     "output_type": "stream",
     "text": [
      "Files already downloaded and verified\n",
      "Files already downloaded and verified\n"
     ]
    }
   ],
   "source": [
    "transform = transforms.Compose(\n",
    "    [transforms.ToTensor()])\n",
    "\n",
    "train_dataset = torchvision.datasets.CIFAR10(root='./data', train=True,\n",
    "                                        download=True, transform=transform)\n",
    "test_dataset = torchvision.datasets.CIFAR10(root='./data', train=False,\n",
    "                                        download=True, transform=transform)"
   ]
  },
  {
   "cell_type": "code",
   "execution_count": 3,
   "id": "540a851a-e446-4105-adb9-40f551ff6539",
   "metadata": {},
   "outputs": [
    {
     "data": {
      "text/plain": [
       "(-0.5, 31.5, 31.5, -0.5)"
      ]
     },
     "execution_count": 3,
     "metadata": {},
     "output_type": "execute_result"
    },
    {
     "data": {
      "image/png": "[encoded data removed]",
      "text/plain": [
       "<Figure size 640x480 with 3 Axes>"
      ]
     },
     "metadata": {},
     "output_type": "display_data"
    }
   ],
   "source": [
    "plt.subplot(1,3,1)\n",
    "plt.imshow(train_dataset[0][0].permute([1,2,0]))\n",
    "plt.axis(\"off\")\n",
    "plt.subplot(1,3,2)\n",
    "plt.imshow(train_dataset[0][0].view(3,-1)[:, torch.randperm(32*32)].reshape(3, 32, 32).permute([1,2,0]))\n",
    "plt.axis(\"off\")\n",
    "plt.subplot(1,3,3)\n",
    "plt.imshow(train_dataset[0][0].view(3,-1)[:, torch.randperm(32*32)].reshape(3, 32, 32).permute([1,2,0]))\n",
    "plt.axis(\"off\")"
   ]
  },
  {
   "cell_type": "code",
   "execution_count": 91,
   "id": "b570c96b-d9e7-4a77-bb52-f5b790f76a39",
   "metadata": {},
   "outputs": [],
   "source": [
    "class CIFAR10Dataset(Dataset):\n",
    "    def __init__(self, dataset, permutation, task_id):\n",
    "        self.dataset = dataset\n",
    "        self.permutation = permutation\n",
    "        self.task_id = task_id\n",
    "        \n",
    "    def __len__(self):\n",
    "        return len(self.dataset)\n",
    "    \n",
    "    def __getitem__(self, idx):\n",
    "        \n",
    "        image, label = self.dataset[idx]\n",
    "        image = image.view(3,-1)[:, self.permutation].reshape(3, 32, 32)\n",
    "        \n",
    "        return image, label\n",
    "        "
   ]
  },
  {
   "cell_type": "code",
   "execution_count": 92,
   "id": "5ee36cf4-f1b7-44dc-b154-c81c8cc7db85",
   "metadata": {},
   "outputs": [],
   "source": [
    "task_1_perm = list(range(32*32))\n",
    "task_2_perm = torch.randperm(32*32)\n",
    "\n",
    "task_1_train_dataset = CIFAR10Dataset(train_dataset, task_1_perm, \"1\")\n",
    "task_2_train_dataset = CIFAR10Dataset(train_dataset, task_2_perm, \"2\")\n",
    "task_1_test_dataset = CIFAR10Dataset(test_dataset, task_1_perm, \"1\")\n",
    "task_2_test_dataset = CIFAR10Dataset(test_dataset, task_2_perm, \"2\")"
   ]
  },
  {
   "cell_type": "code",
   "execution_count": 93,
   "id": "952e34d5-29cf-4ea7-8d12-91097eba7eb7",
   "metadata": {},
   "outputs": [],
   "source": [
    "task_1_train_dataloader = DataLoader(task_1_train_dataset, batch_size = 16, shuffle=True, pin_memory=True)\n",
    "task_2_train_dataloader = DataLoader(task_2_train_dataset, batch_size = 16, shuffle=True, pin_memory=True)\n",
    "task_1_test_dataloader = DataLoader(task_1_test_dataset, batch_size = 16, shuffle=False, pin_memory=True)\n",
    "task_2_test_dataloader = DataLoader(task_2_test_dataset, batch_size = 16, shuffle=False, pin_memory=True)"
   ]
  },
  {
   "cell_type": "code",
   "execution_count": 94,
   "id": "bb4c8245-c533-4d6c-b413-1e0c4c10d251",
   "metadata": {},
   "outputs": [],
   "source": [
    "model = ResNet18()"
   ]
  },
  {
   "cell_type": "code",
   "execution_count": 95,
   "id": "361a2330-a042-4c9c-9004-b13651550a8a",
   "metadata": {},
   "outputs": [
    {
     "name": "stderr",
     "output_type": "stream",
     "text": [
      "GPU available: True (cuda), used: True\n",
      "TPU available: False, using: 0 TPU cores\n",
      "IPU available: False, using: 0 IPUs\n",
      "HPU available: False, using: 0 HPUs\n"
     ]
    }
   ],
   "source": [
    "trainer = pl.Trainer(max_epochs = 3, accelerator = \"gpu\", enable_progress_bar = True)"
   ]
  },
  {
   "cell_type": "code",
   "execution_count": 96,
   "id": "b2df1ef9-41f7-429e-bb32-7e356031316b",
   "metadata": {},
   "outputs": [
    {
     "name": "stderr",
     "output_type": "stream",
     "text": [
      "LOCAL_RANK: 0 - CUDA_VISIBLE_DEVICES: [0]\n",
      "\n",
      "  | Name      | Type               | Params\n",
      "-------------------------------------------------\n",
      "0 | conv1     | Conv2d             | 1.7 K \n",
      "1 | bn1       | BatchNorm2d        | 128   \n",
      "2 | layer1    | Sequential         | 147 K \n",
      "3 | layer2    | Sequential         | 525 K \n",
      "4 | layer3    | Sequential         | 2.1 M \n",
      "5 | layer4    | Sequential         | 8.4 M \n",
      "6 | linear    | Linear             | 5.1 K \n",
      "7 | criterion | CrossEntropyLoss   | 0     \n",
      "8 | accuracy  | MulticlassAccuracy | 0     \n",
      "-------------------------------------------------\n",
      "11.2 M    Trainable params\n",
      "0         Non-trainable params\n",
      "11.2 M    Total params\n",
      "44.696    Total estimated model params size (MB)\n"
     ]
    },
    {
     "data": {
      "application/vnd.jupyter.widget-view+json": {
       "model_id": "23d22b37a697425ca73e6e6532a077e9",
       "version_major": 2,
       "version_minor": 0
      },
      "text/plain": [
       "Training: 0it [00:00, ?it/s]"
      ]
     },
     "metadata": {},
     "output_type": "display_data"
    },
    {
     "name": "stderr",
     "output_type": "stream",
     "text": [
      "`Trainer.fit` stopped: `max_epochs=3` reached.\n"
     ]
    }
   ],
   "source": [
    "trainer.fit(model, task_1_train_dataloader)"
   ]
  },
  {
   "cell_type": "code",
   "execution_count": 97,
   "id": "d222e30b-6086-465f-b0bb-92b9c8afc471",
   "metadata": {},
   "outputs": [],
   "source": [
    "torch.save(model.state_dict(), open(\"classifier.pth\", \"wb\"))"
   ]
  },
  {
   "cell_type": "code",
   "execution_count": 102,
   "id": "330c34cd-1d18-41f5-b4e5-458ea09200ab",
   "metadata": {},
   "outputs": [],
   "source": [
    "class ResNetContinual(pl.LightningModule):\n",
    "    \n",
    "    def __init__(self, old_resnet): \n",
    "        \n",
    "        super().__init__()\n",
    "        self.old_resnet = old_resnet\n",
    "        self.new_resnet = ResNet18()\n",
    "        self.new_resnet.load_state_dict(old_resnet.state_dict())\n",
    "        self.accuracy = torchmetrics.Accuracy(task = \"multiclass\", num_classes = 10)\n",
    "        self.acc = 0\n",
    "        self.loss = 0\n",
    "        self.count = 0\n",
    "        self.criterion = nn.CrossEntropyLoss()\n",
    "    \n",
    "    def forward(self, x):\n",
    "        \n",
    "        return self.new_resnet(x)\n",
    "        \n",
    "    def configure_optimizers(self):\n",
    "        optimizer = torch.optim.Adam(self.new_resnet.parameters(), lr=0.00005)\n",
    "        \n",
    "        return [optimizer]\n",
    "    \n",
    "    def training_step(self, batch, batch_idx):\n",
    "        x, y = batch\n",
    "        y_hat = self(x)\n",
    "        loss = self.criterion(y_hat, y)\n",
    "        \n",
    "        for parameter1, parameter2 in zip(self.old_resnet.parameters(), self.new_resnet.parameters()):\n",
    "            loss += 0.001*F.mse_loss(parameter1, parameter2)\n",
    "        \n",
    "        \n",
    "        self.acc = (self.acc*self.count + self.accuracy(y_hat, y))/(self.count + 1)\n",
    "        self.loss = (self.loss*self.count + loss.item())/(self.count + 1)\n",
    "        self.count+=1\n",
    "        self.log(\"accuracy\", self.acc,  prog_bar=True)\n",
    "        self.log(\"loss\", self.loss,  prog_bar=True)\n",
    "        \n",
    "        return loss\n",
    "    \n",
    "    def on_train_epoch_end(self):\n",
    "        self.acc = 0\n",
    "        self.loss = 0\n",
    "        self.count = 0\n",
    "        # self.old_resnet.load_state_dict(new_resnet.state_dict())\n",
    "        \n",
    "        "
   ]
  },
  {
   "cell_type": "code",
   "execution_count": 103,
   "id": "e64548cc-ab26-453a-8898-112629010a08",
   "metadata": {},
   "outputs": [
    {
     "data": {
      "text/plain": [
       "<All keys matched successfully>"
      ]
     },
     "execution_count": 103,
     "metadata": {},
     "output_type": "execute_result"
    }
   ],
   "source": [
    "model.load_state_dict(torch.load(open(\"classifier.pth\", \"rb\")))"
   ]
  },
  {
   "cell_type": "code",
   "execution_count": 104,
   "id": "429005a2-7a5b-4c65-88aa-29134ac4824e",
   "metadata": {},
   "outputs": [],
   "source": [
    "model_task1 = ResNetContinual(old_resnet = model)"
   ]
  },
  {
   "cell_type": "code",
   "execution_count": 105,
   "id": "aa13f1fe-10b7-4b31-98d2-b7fbe4a38061",
   "metadata": {},
   "outputs": [
    {
     "name": "stderr",
     "output_type": "stream",
     "text": [
      "GPU available: True (cuda), used: True\n",
      "TPU available: False, using: 0 TPU cores\n",
      "IPU available: False, using: 0 IPUs\n",
      "HPU available: False, using: 0 HPUs\n",
      "LOCAL_RANK: 0 - CUDA_VISIBLE_DEVICES: [0]\n",
      "\n",
      "  | Name       | Type               | Params\n",
      "--------------------------------------------------\n",
      "0 | old_resnet | ResNet             | 11.2 M\n",
      "1 | new_resnet | ResNet             | 11.2 M\n",
      "2 | accuracy   | MulticlassAccuracy | 0     \n",
      "3 | criterion  | CrossEntropyLoss   | 0     \n",
      "--------------------------------------------------\n",
      "22.3 M    Trainable params\n",
      "0         Non-trainable params\n",
      "22.3 M    Total params\n",
      "89.392    Total estimated model params size (MB)\n"
     ]
    },
    {
     "data": {
      "application/vnd.jupyter.widget-view+json": {
       "model_id": "542055ee48fd4321b3ff732ed4bda2e8",
       "version_major": 2,
       "version_minor": 0
      },
      "text/plain": [
       "Training: 0it [00:00, ?it/s]"
      ]
     },
     "metadata": {},
     "output_type": "display_data"
    }
   ],
   "source": [
    "trainer = pl.Trainer(max_epochs = 5, accelerator = \"gpu\", enable_progress_bar = True, accumulate_grad_batches=8)\n",
    "trainer.fit(model_task1, task_2_train_dataloader)"
   ]
  },
  {
   "cell_type": "code",
   "execution_count": 106,
   "id": "206d35cb-42b2-4337-90a4-e74d7c092cca",
   "metadata": {
    "collapsed": true,
    "jupyter": {
     "outputs_hidden": true
    },
    "tags": []
   },
   "outputs": [
    {
     "name": "stderr",
     "output_type": "stream",
     "text": [
      "\n",
      "  0%|          | 0/625 [00:00<?, ?it/s]\u001b[A\n",
      "  0%|          | 2/625 [00:00<00:36, 16.93it/s]\u001b[A\n",
      "  1%|          | 5/625 [00:00<00:30, 20.32it/s]\u001b[A\n",
      "  1%|▏         | 8/625 [00:00<00:34, 17.71it/s]\u001b[A\n",
      "  2%|▏         | 10/625 [00:00<00:37, 16.43it/s]\u001b[A\n",
      "  2%|▏         | 12/625 [00:00<00:40, 15.30it/s]\u001b[A\n",
      "  2%|▏         | 14/625 [00:00<00:38, 15.70it/s]\u001b[A\n",
      "  3%|▎         | 16/625 [00:01<00:41, 14.71it/s]\u001b[A\n",
      "  3%|▎         | 18/625 [00:01<00:41, 14.63it/s]\u001b[A\n",
      "  3%|▎         | 20/625 [00:01<00:41, 14.44it/s]\u001b[A\n",
      "  4%|▎         | 22/625 [00:01<00:39, 15.31it/s]\u001b[A\n",
      "  4%|▍         | 27/625 [00:01<00:25, 23.25it/s]\u001b[A\n",
      "  5%|▍         | 30/625 [00:01<00:26, 22.09it/s]\u001b[A\n",
      "  5%|▌         | 33/625 [00:01<00:26, 22.52it/s]\u001b[A\n",
      "  6%|▌         | 36/625 [00:01<00:29, 19.79it/s]\u001b[A\n",
      "  6%|▌         | 39/625 [00:02<00:28, 20.62it/s]\u001b[A\n",
      "  7%|▋         | 44/625 [00:02<00:21, 26.42it/s]\u001b[A\n",
      "  8%|▊         | 47/625 [00:02<00:26, 21.60it/s]\u001b[A\n",
      "  8%|▊         | 50/625 [00:02<00:28, 19.84it/s]\u001b[A\n",
      "  8%|▊         | 53/625 [00:02<00:28, 20.24it/s]\u001b[A\n",
      "  9%|▉         | 56/625 [00:02<00:30, 18.95it/s]\u001b[A\n",
      "  9%|▉         | 59/625 [00:03<00:27, 20.72it/s]\u001b[A\n",
      " 10%|▉         | 62/625 [00:03<00:26, 21.52it/s]\u001b[A\n",
      " 10%|█         | 65/625 [00:03<00:25, 21.73it/s]\u001b[A\n",
      " 11%|█         | 68/625 [00:03<00:26, 20.67it/s]\u001b[A\n",
      " 11%|█▏        | 71/625 [00:03<00:28, 19.69it/s]\u001b[A\n",
      " 12%|█▏        | 74/625 [00:03<00:26, 20.67it/s]\u001b[A\n",
      " 12%|█▏        | 77/625 [00:03<00:27, 20.10it/s]\u001b[A\n",
      " 13%|█▎        | 84/625 [00:04<00:17, 31.15it/s]\u001b[A\n",
      " 15%|█▍        | 92/625 [00:04<00:12, 41.02it/s]\u001b[A\n",
      " 16%|█▌        | 100/625 [00:04<00:10, 49.51it/s]\u001b[A\n",
      " 17%|█▋        | 106/625 [00:04<00:10, 49.14it/s]\u001b[A\n",
      " 18%|█▊        | 114/625 [00:04<00:09, 56.58it/s]\u001b[A\n",
      " 19%|█▉        | 121/625 [00:04<00:08, 60.05it/s]\u001b[A\n",
      " 20%|██        | 128/625 [00:04<00:08, 56.89it/s]\u001b[A\n",
      " 22%|██▏       | 136/625 [00:04<00:07, 62.54it/s]\u001b[A\n",
      " 23%|██▎       | 143/625 [00:04<00:08, 57.68it/s]\u001b[A\n",
      " 24%|██▍       | 149/625 [00:05<00:10, 46.10it/s]\u001b[A\n",
      " 25%|██▍       | 155/625 [00:05<00:14, 33.03it/s]\u001b[A\n",
      " 26%|██▌       | 160/625 [00:05<00:17, 27.17it/s]\u001b[A\n",
      " 26%|██▌       | 164/625 [00:06<00:18, 24.32it/s]\u001b[A\n",
      " 27%|██▋       | 167/625 [00:06<00:20, 21.82it/s]\u001b[A\n",
      " 27%|██▋       | 170/625 [00:06<00:20, 21.92it/s]\u001b[A\n",
      " 28%|██▊       | 173/625 [00:06<00:22, 20.01it/s]\u001b[A\n",
      " 28%|██▊       | 176/625 [00:06<00:22, 20.02it/s]\u001b[A\n",
      " 29%|██▊       | 179/625 [00:06<00:23, 18.67it/s]\u001b[A\n",
      " 29%|██▉       | 181/625 [00:07<00:24, 17.76it/s]\u001b[A\n",
      " 29%|██▉       | 183/625 [00:07<00:25, 17.16it/s]\u001b[A\n",
      " 30%|██▉       | 185/625 [00:07<00:25, 17.29it/s]\u001b[A\n",
      " 30%|██▉       | 187/625 [00:07<00:26, 16.47it/s]\u001b[A\n",
      " 30%|███       | 189/625 [00:07<00:26, 16.20it/s]\u001b[A\n",
      " 31%|███       | 191/625 [00:07<00:27, 16.00it/s]\u001b[A\n",
      " 31%|███       | 194/625 [00:07<00:25, 17.09it/s]\u001b[A\n",
      " 31%|███▏      | 196/625 [00:07<00:26, 16.44it/s]\u001b[A\n",
      " 32%|███▏      | 200/625 [00:08<00:22, 19.26it/s]\u001b[A\n",
      " 32%|███▏      | 203/625 [00:08<00:20, 20.31it/s]\u001b[A\n",
      " 33%|███▎      | 206/625 [00:08<00:20, 20.45it/s]\u001b[A\n",
      " 33%|███▎      | 209/625 [00:08<00:22, 18.10it/s]\u001b[A\n",
      " 34%|███▍      | 213/625 [00:08<00:18, 22.56it/s]\u001b[A\n",
      " 35%|███▍      | 216/625 [00:08<00:18, 21.75it/s]\u001b[A\n",
      " 35%|███▌      | 219/625 [00:09<00:20, 19.38it/s]\u001b[A\n",
      " 36%|███▌      | 222/625 [00:09<00:22, 17.97it/s]\u001b[A\n",
      " 36%|███▌      | 224/625 [00:09<00:23, 17.39it/s]\u001b[A\n",
      " 36%|███▌      | 226/625 [00:09<00:23, 16.64it/s]\u001b[A\n",
      " 36%|███▋      | 228/625 [00:09<00:24, 16.22it/s]\u001b[A\n",
      " 37%|███▋      | 234/625 [00:09<00:16, 23.24it/s]\u001b[A\n",
      " 38%|███▊      | 237/625 [00:09<00:17, 22.82it/s]\u001b[A\n",
      " 38%|███▊      | 240/625 [00:10<00:18, 21.39it/s]\u001b[A\n",
      " 39%|███▉      | 243/625 [00:10<00:19, 19.56it/s]\u001b[A\n",
      " 39%|███▉      | 245/625 [00:10<00:20, 18.57it/s]\u001b[A\n",
      " 40%|████      | 253/625 [00:10<00:11, 31.30it/s]\u001b[A\n",
      " 42%|████▏     | 261/625 [00:10<00:08, 42.45it/s]\u001b[A\n",
      " 43%|████▎     | 269/625 [00:10<00:06, 51.22it/s]\u001b[A\n",
      " 44%|████▍     | 275/625 [00:10<00:06, 50.51it/s]\u001b[A\n",
      " 45%|████▌     | 282/625 [00:10<00:07, 48.98it/s]\u001b[A\n",
      " 46%|████▌     | 288/625 [00:11<00:11, 30.63it/s]\u001b[A\n",
      " 47%|████▋     | 293/625 [00:11<00:12, 25.74it/s]\u001b[A\n",
      " 48%|████▊     | 297/625 [00:11<00:14, 22.70it/s]\u001b[A\n",
      " 48%|████▊     | 300/625 [00:12<00:15, 20.64it/s]\u001b[A\n",
      " 48%|████▊     | 303/625 [00:12<00:16, 19.13it/s]\u001b[A\n",
      " 49%|████▉     | 306/625 [00:12<00:17, 17.97it/s]\u001b[A\n",
      " 49%|████▉     | 309/625 [00:12<00:16, 19.72it/s]\u001b[A\n",
      " 51%|█████     | 316/625 [00:12<00:10, 29.31it/s]\u001b[A\n",
      " 52%|█████▏    | 324/625 [00:12<00:07, 40.10it/s]\u001b[A\n",
      " 53%|█████▎    | 333/625 [00:12<00:05, 51.73it/s]\u001b[A\n",
      " 54%|█████▍    | 340/625 [00:13<00:05, 54.86it/s]\u001b[A\n",
      " 56%|█████▌    | 348/625 [00:13<00:04, 60.97it/s]\u001b[A\n",
      " 57%|█████▋    | 356/625 [00:13<00:04, 65.57it/s]\u001b[A\n",
      " 58%|█████▊    | 364/625 [00:13<00:03, 66.18it/s]\u001b[A\n",
      " 60%|█████▉    | 372/625 [00:13<00:03, 69.00it/s]\u001b[A\n",
      " 61%|██████    | 381/625 [00:13<00:03, 73.15it/s]\u001b[A\n",
      " 62%|██████▏   | 390/625 [00:13<00:03, 76.47it/s]\u001b[A\n",
      " 64%|██████▎   | 398/625 [00:13<00:02, 77.41it/s]\u001b[A\n",
      " 65%|██████▌   | 408/625 [00:13<00:02, 81.90it/s]\u001b[A\n",
      " 67%|██████▋   | 418/625 [00:13<00:02, 84.70it/s]\u001b[A\n",
      " 68%|██████▊   | 427/625 [00:14<00:02, 84.25it/s]\u001b[A\n",
      " 70%|██████▉   | 436/625 [00:14<00:02, 85.47it/s]\u001b[A\n",
      " 71%|███████   | 445/625 [00:14<00:02, 71.47it/s]\u001b[A\n",
      " 72%|███████▏  | 453/625 [00:14<00:04, 41.49it/s]\u001b[A\n",
      " 73%|███████▎  | 459/625 [00:15<00:04, 37.05it/s]\u001b[A\n",
      " 74%|███████▍  | 464/625 [00:15<00:05, 31.04it/s]\u001b[A\n",
      " 75%|███████▌  | 469/625 [00:15<00:06, 25.36it/s]\u001b[A\n",
      " 76%|███████▌  | 473/625 [00:15<00:06, 24.57it/s]\u001b[A\n",
      " 76%|███████▌  | 476/625 [00:15<00:06, 22.98it/s]\u001b[A\n",
      " 77%|███████▋  | 479/625 [00:16<00:06, 21.17it/s]\u001b[A\n",
      " 77%|███████▋  | 482/625 [00:16<00:06, 22.06it/s]\u001b[A\n",
      " 78%|███████▊  | 485/625 [00:16<00:06, 20.21it/s]\u001b[A\n",
      " 78%|███████▊  | 488/625 [00:16<00:07, 19.22it/s]\u001b[A\n",
      " 79%|███████▊  | 491/625 [00:16<00:06, 20.92it/s]\u001b[A\n",
      " 80%|███████▉  | 498/625 [00:16<00:04, 31.20it/s]\u001b[A\n",
      " 81%|████████  | 506/625 [00:16<00:02, 42.05it/s]\u001b[A\n",
      " 82%|████████▏ | 511/625 [00:17<00:02, 38.40it/s]\u001b[A\n",
      " 83%|████████▎ | 517/625 [00:17<00:02, 40.59it/s]\u001b[A\n",
      " 84%|████████▍ | 524/625 [00:17<00:02, 46.32it/s]\u001b[A\n",
      " 85%|████████▍ | 531/625 [00:17<00:01, 51.64it/s]\u001b[A\n",
      " 86%|████████▌ | 538/625 [00:17<00:01, 55.12it/s]\u001b[A\n",
      " 87%|████████▋ | 546/625 [00:17<00:01, 60.81it/s]\u001b[A\n",
      " 88%|████████▊ | 553/625 [00:17<00:01, 63.12it/s]\u001b[A\n",
      " 90%|████████▉ | 560/625 [00:17<00:01, 63.75it/s]\u001b[A\n",
      " 91%|█████████ | 567/625 [00:17<00:00, 65.18it/s]\u001b[A\n",
      " 92%|█████████▏| 574/625 [00:18<00:00, 64.78it/s]\u001b[A\n",
      " 93%|█████████▎| 582/625 [00:18<00:00, 66.85it/s]\u001b[A\n",
      " 94%|█████████▍| 589/625 [00:18<00:00, 67.15it/s]\u001b[A\n",
      " 95%|█████████▌| 596/625 [00:18<00:00, 38.61it/s]\u001b[A\n",
      " 96%|█████████▋| 602/625 [00:18<00:00, 31.58it/s]\u001b[A\n",
      " 97%|█████████▋| 607/625 [00:19<00:00, 26.05it/s]\u001b[A\n",
      " 98%|█████████▊| 611/625 [00:19<00:00, 26.17it/s]\u001b[A\n",
      " 98%|█████████▊| 615/625 [00:19<00:00, 26.15it/s]\u001b[A\n",
      " 99%|█████████▉| 619/625 [00:19<00:00, 23.71it/s]\u001b[A\n",
      "100%|█████████▉| 622/625 [00:19<00:00, 21.17it/s]\u001b[A\n",
      "100%|██████████| 625/625 [00:20<00:00, 31.10it/s]\u001b[A\n"
     ]
    }
   ],
   "source": [
    "preds = []\n",
    "true = []\n",
    "model_task1.cuda()\n",
    "for batch in tqdm.tqdm(task_1_test_dataloader):\n",
    "    x, y = batch\n",
    "    x = x.cuda()\n",
    "    with torch.no_grad():\n",
    "        pred = model_task1(x)\n",
    "    \n",
    "    preds.append(pred.cpu())\n",
    "    true.append(y)\n",
    "    \n",
    "    del x\n",
    "    del pred"
   ]
  },
  {
   "cell_type": "code",
   "execution_count": 107,
   "id": "f29e7e7d-6530-4de8-9730-6c482d81820c",
   "metadata": {},
   "outputs": [],
   "source": [
    "accuracy = torchmetrics.Accuracy(task = \"multiclass\", num_classes = 10)"
   ]
  },
  {
   "cell_type": "code",
   "execution_count": 108,
   "id": "92e414a9-f773-483c-ade4-0bc78e6f93c4",
   "metadata": {},
   "outputs": [
    {
     "name": "stdout",
     "output_type": "stream",
     "text": [
      "Task 1 accuracy: tensor(0.5377)\n"
     ]
    }
   ],
   "source": [
    "print(\"Task 1 accuracy:\", accuracy(torch.cat(preds), torch.cat(true)))"
   ]
  },
  {
   "cell_type": "code",
   "execution_count": 109,
   "id": "84e2bf07-3737-4e62-bd11-ce814436f2b6",
   "metadata": {
    "collapsed": true,
    "jupyter": {
     "outputs_hidden": true
    },
    "tags": []
   },
   "outputs": [
    {
     "name": "stderr",
     "output_type": "stream",
     "text": [
      "\n",
      "  0%|          | 0/625 [00:00<?, ?it/s]\u001b[A\n",
      "  1%|▏         | 8/625 [00:00<00:07, 77.86it/s]\u001b[A\n",
      "  3%|▎         | 17/625 [00:00<00:07, 82.46it/s]\u001b[A\n",
      "  4%|▍         | 26/625 [00:00<00:07, 76.09it/s]\u001b[A\n",
      "  5%|▌         | 34/625 [00:00<00:08, 68.13it/s]\u001b[A\n",
      "  7%|▋         | 41/625 [00:00<00:15, 38.72it/s]\u001b[A\n",
      "  8%|▊         | 47/625 [00:00<00:13, 41.91it/s]\u001b[A\n",
      "  8%|▊         | 53/625 [00:01<00:18, 30.65it/s]\u001b[A\n",
      "  9%|▉         | 58/625 [00:01<00:22, 25.73it/s]\u001b[A\n",
      " 10%|▉         | 62/625 [00:01<00:24, 22.74it/s]\u001b[A\n",
      " 11%|█         | 66/625 [00:01<00:22, 24.69it/s]\u001b[A\n",
      " 11%|█         | 69/625 [00:02<00:23, 23.56it/s]\u001b[A\n",
      " 12%|█▏        | 72/625 [00:02<00:23, 23.79it/s]\u001b[A\n",
      " 12%|█▏        | 75/625 [00:02<00:25, 21.64it/s]\u001b[A\n",
      " 12%|█▏        | 78/625 [00:02<00:27, 20.08it/s]\u001b[A\n",
      " 13%|█▎        | 81/625 [00:02<00:27, 19.71it/s]\u001b[A\n",
      " 13%|█▎        | 84/625 [00:02<00:27, 19.86it/s]\u001b[A\n",
      " 14%|█▍        | 87/625 [00:02<00:26, 20.41it/s]\u001b[A\n",
      " 14%|█▍        | 90/625 [00:03<00:28, 18.93it/s]\u001b[A\n",
      " 15%|█▍        | 92/625 [00:03<00:28, 18.69it/s]\u001b[A\n",
      " 15%|█▌        | 94/625 [00:03<00:29, 17.78it/s]\u001b[A\n",
      " 16%|█▌        | 97/625 [00:03<00:28, 18.41it/s]\u001b[A\n",
      " 16%|█▌        | 99/625 [00:03<00:28, 18.75it/s]\u001b[A\n",
      " 16%|█▌        | 101/625 [00:03<00:27, 18.74it/s]\u001b[A\n",
      " 17%|█▋        | 104/625 [00:03<00:27, 18.64it/s]\u001b[A\n",
      " 17%|█▋        | 107/625 [00:04<00:28, 18.21it/s]\u001b[A\n",
      " 17%|█▋        | 109/625 [00:04<00:29, 17.50it/s]\u001b[A\n",
      " 18%|█▊        | 111/625 [00:04<00:29, 17.29it/s]\u001b[A\n",
      " 18%|█▊        | 113/625 [00:04<00:30, 17.06it/s]\u001b[A\n",
      " 19%|█▉        | 118/625 [00:04<00:21, 24.04it/s]\u001b[A\n",
      " 20%|█▉        | 122/625 [00:04<00:18, 27.73it/s]\u001b[A\n",
      " 20%|██        | 128/625 [00:04<00:14, 33.40it/s]\u001b[A\n",
      " 21%|██        | 132/625 [00:04<00:14, 34.64it/s]\u001b[A\n",
      " 22%|██▏       | 136/625 [00:05<00:15, 31.79it/s]\u001b[A\n",
      " 22%|██▏       | 140/625 [00:05<00:18, 26.05it/s]\u001b[A\n",
      " 23%|██▎       | 143/625 [00:05<00:21, 22.48it/s]\u001b[A\n",
      " 23%|██▎       | 146/625 [00:05<00:20, 23.19it/s]\u001b[A\n",
      " 24%|██▍       | 149/625 [00:05<00:20, 22.70it/s]\u001b[A\n",
      " 24%|██▍       | 153/625 [00:05<00:18, 25.99it/s]\u001b[A\n",
      " 26%|██▌       | 162/625 [00:05<00:11, 40.61it/s]\u001b[A\n",
      " 27%|██▋       | 169/625 [00:06<00:09, 47.21it/s]\u001b[A\n",
      " 28%|██▊       | 175/625 [00:06<00:12, 34.97it/s]\u001b[A\n",
      " 29%|██▉       | 184/625 [00:06<00:09, 45.21it/s]\u001b[A\n",
      " 31%|███       | 192/625 [00:06<00:08, 51.87it/s]\u001b[A\n",
      " 32%|███▏      | 198/625 [00:06<00:08, 52.70it/s]\u001b[A\n",
      " 33%|███▎      | 206/625 [00:06<00:07, 58.75it/s]\u001b[A\n",
      " 34%|███▍      | 213/625 [00:06<00:07, 55.18it/s]\u001b[A\n",
      " 35%|███▌      | 219/625 [00:07<00:09, 43.60it/s]\u001b[A\n",
      " 36%|███▌      | 224/625 [00:07<00:10, 38.35it/s]\u001b[A\n",
      " 37%|███▋      | 229/625 [00:07<00:13, 30.27it/s]\u001b[A\n",
      " 37%|███▋      | 233/625 [00:07<00:14, 27.94it/s]\u001b[A\n",
      " 38%|███▊      | 237/625 [00:08<00:15, 24.42it/s]\u001b[A\n",
      " 38%|███▊      | 240/625 [00:08<00:17, 22.06it/s]\u001b[A\n",
      " 39%|███▉      | 243/625 [00:08<00:19, 19.77it/s]\u001b[A\n",
      " 39%|███▉      | 246/625 [00:08<00:20, 18.32it/s]\u001b[A\n",
      " 40%|███▉      | 248/625 [00:08<00:21, 17.22it/s]\u001b[A\n",
      " 40%|████      | 250/625 [00:08<00:21, 17.08it/s]\u001b[A\n",
      " 40%|████      | 252/625 [00:08<00:21, 17.37it/s]\u001b[A\n",
      " 41%|████      | 255/625 [00:09<00:18, 20.03it/s]\u001b[A\n",
      " 42%|████▏     | 263/625 [00:09<00:10, 33.66it/s]\u001b[A\n",
      " 43%|████▎     | 267/625 [00:09<00:11, 31.41it/s]\u001b[A\n",
      " 43%|████▎     | 271/625 [00:09<00:13, 26.25it/s]\u001b[A\n",
      " 44%|████▍     | 274/625 [00:09<00:15, 22.69it/s]\u001b[A\n",
      " 44%|████▍     | 277/625 [00:09<00:16, 21.65it/s]\u001b[A\n",
      " 45%|████▍     | 280/625 [00:10<00:16, 20.59it/s]\u001b[A\n",
      " 45%|████▌     | 284/625 [00:10<00:14, 23.91it/s]\u001b[A\n",
      " 46%|████▌     | 287/625 [00:10<00:16, 20.99it/s]\u001b[A\n",
      " 46%|████▋     | 290/625 [00:10<00:15, 22.06it/s]\u001b[A\n",
      " 47%|████▋     | 293/625 [00:10<00:15, 21.94it/s]\u001b[A\n",
      " 48%|████▊     | 298/625 [00:10<00:12, 27.09it/s]\u001b[A\n",
      " 48%|████▊     | 301/625 [00:10<00:13, 24.25it/s]\u001b[A\n",
      " 49%|████▊     | 304/625 [00:11<00:13, 24.16it/s]\u001b[A\n",
      " 49%|████▉     | 307/625 [00:11<00:13, 23.18it/s]\u001b[A\n",
      " 50%|████▉     | 310/625 [00:11<00:14, 21.24it/s]\u001b[A\n",
      " 51%|█████     | 316/625 [00:11<00:11, 28.01it/s]\u001b[A\n",
      " 51%|█████     | 319/625 [00:11<00:12, 24.83it/s]\u001b[A\n",
      " 52%|█████▏    | 322/625 [00:11<00:13, 22.61it/s]\u001b[A\n",
      " 52%|█████▏    | 325/625 [00:11<00:14, 21.17it/s]\u001b[A\n",
      " 53%|█████▎    | 333/625 [00:12<00:08, 33.63it/s]\u001b[A\n",
      " 55%|█████▍    | 341/625 [00:12<00:06, 43.72it/s]\u001b[A\n",
      " 56%|█████▌    | 350/625 [00:12<00:05, 53.97it/s]\u001b[A\n",
      " 57%|█████▋    | 359/625 [00:12<00:04, 61.95it/s]\u001b[A\n",
      " 59%|█████▊    | 366/625 [00:12<00:04, 63.03it/s]\u001b[A\n",
      " 60%|█████▉    | 374/625 [00:12<00:03, 67.37it/s]\u001b[A\n",
      " 61%|██████▏   | 383/625 [00:12<00:03, 73.44it/s]\u001b[A\n",
      " 63%|██████▎   | 391/625 [00:12<00:03, 74.89it/s]\u001b[A\n",
      " 64%|██████▍   | 399/625 [00:12<00:03, 72.20it/s]\u001b[A\n",
      " 65%|██████▌   | 407/625 [00:13<00:04, 50.43it/s]\u001b[A\n",
      " 66%|██████▌   | 414/625 [00:13<00:04, 52.66it/s]\u001b[A\n",
      " 67%|██████▋   | 421/625 [00:13<00:05, 35.38it/s]\u001b[A\n",
      " 68%|██████▊   | 426/625 [00:13<00:06, 28.89it/s]\u001b[A\n",
      " 69%|██████▉   | 430/625 [00:14<00:06, 29.66it/s]\u001b[A\n",
      " 69%|██████▉   | 434/625 [00:14<00:06, 31.25it/s]\u001b[A\n",
      " 70%|███████   | 438/625 [00:14<00:06, 26.83it/s]\u001b[A\n",
      " 71%|███████   | 442/625 [00:14<00:08, 21.99it/s]\u001b[A\n",
      " 71%|███████▏  | 446/625 [00:14<00:07, 22.74it/s]\u001b[A\n",
      " 72%|███████▏  | 449/625 [00:14<00:07, 23.30it/s]\u001b[A\n",
      " 73%|███████▎  | 454/625 [00:15<00:06, 27.77it/s]\u001b[A\n",
      " 73%|███████▎  | 458/625 [00:15<00:07, 22.56it/s]\u001b[A\n",
      " 74%|███████▍  | 461/625 [00:15<00:07, 21.19it/s]\u001b[A\n",
      " 74%|███████▍  | 464/625 [00:15<00:08, 19.94it/s]\u001b[A\n",
      " 75%|███████▍  | 467/625 [00:15<00:08, 18.56it/s]\u001b[A\n",
      " 75%|███████▌  | 469/625 [00:15<00:08, 18.33it/s]\u001b[A\n",
      " 76%|███████▌  | 472/625 [00:16<00:08, 18.71it/s]\u001b[A\n",
      " 76%|███████▌  | 475/625 [00:16<00:07, 19.14it/s]\u001b[A\n",
      " 76%|███████▋  | 477/625 [00:16<00:07, 18.50it/s]\u001b[A\n",
      " 77%|███████▋  | 479/625 [00:16<00:08, 17.70it/s]\u001b[A\n",
      " 77%|███████▋  | 481/625 [00:16<00:08, 17.31it/s]\u001b[A\n",
      " 77%|███████▋  | 484/625 [00:16<00:07, 20.08it/s]\u001b[A\n",
      " 79%|███████▉  | 493/625 [00:16<00:03, 37.43it/s]\u001b[A\n",
      " 80%|████████  | 503/625 [00:16<00:02, 52.61it/s]\u001b[A\n",
      " 82%|████████▏ | 511/625 [00:17<00:01, 59.65it/s]\u001b[A\n",
      " 83%|████████▎ | 519/625 [00:17<00:01, 61.54it/s]\u001b[A\n",
      " 85%|████████▍ | 529/625 [00:17<00:01, 71.44it/s]\u001b[A\n",
      " 86%|████████▌ | 538/625 [00:17<00:01, 76.27it/s]\u001b[A\n",
      " 88%|████████▊ | 548/625 [00:17<00:00, 81.06it/s]\u001b[A\n",
      " 89%|████████▉ | 557/625 [00:17<00:00, 82.58it/s]\u001b[A\n",
      " 91%|█████████ | 566/625 [00:17<00:00, 81.00it/s]\u001b[A\n",
      " 92%|█████████▏| 576/625 [00:17<00:00, 85.39it/s]\u001b[A\n",
      " 94%|█████████▍| 586/625 [00:17<00:00, 87.36it/s]\u001b[A\n",
      " 95%|█████████▌| 595/625 [00:18<00:00, 75.11it/s]\u001b[A\n",
      " 96%|█████████▋| 603/625 [00:18<00:00, 50.27it/s]\u001b[A\n",
      " 98%|█████████▊| 611/625 [00:18<00:00, 55.98it/s]\u001b[A\n",
      "100%|██████████| 625/625 [00:18<00:00, 33.45it/s]\u001b[A\n"
     ]
    }
   ],
   "source": [
    "preds = []\n",
    "true = []\n",
    "model_task1.cuda()\n",
    "for batch in tqdm.tqdm(task_2_test_dataloader):\n",
    "    x, y = batch\n",
    "    x = x.cuda()\n",
    "    with torch.no_grad():\n",
    "        pred = model_task1(x)\n",
    "    \n",
    "    preds.append(pred.cpu())\n",
    "    true.append(y)\n",
    "    \n",
    "    del x\n",
    "    del pred"
   ]
  },
  {
   "cell_type": "code",
   "execution_count": 110,
   "id": "0932a584-fcc5-42dc-87d8-d34f6faea90b",
   "metadata": {},
   "outputs": [
    {
     "name": "stdout",
     "output_type": "stream",
     "text": [
      "Task 2 accuracy: tensor(0.4822)\n"
     ]
    }
   ],
   "source": [
    "print(\"Task 2 accuracy:\", accuracy(torch.cat(preds), torch.cat(true)))"
   ]
  },
  {
   "cell_type": "code",
   "execution_count": null,
   "id": "3c731122-62a8-4270-8cfa-8cd690a71ac1",
   "metadata": {},
   "outputs": [],
   "source": []
  }
 ],
 "metadata": {
  "kernelspec": {
   "display_name": "Python 3 (ipykernel)",
   "language": "python",
   "name": "python3"
  },
  "language_info": {
   "codemirror_mode": {
    "name": "ipython",
    "version": 3
   },
   "file_extension": ".py",
   "mimetype": "text/x-python",
   "name": "python",
   "nbconvert_exporter": "python",
   "pygments_lexer": "ipython3",
   "version": "3.9.16"
  }
 },
 "nbformat": 4,
 "nbformat_minor": 5
}
